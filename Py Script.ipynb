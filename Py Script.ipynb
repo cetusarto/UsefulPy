{
 "cells": [
  {
   "cell_type": "code",
   "execution_count": 3,
   "id": "34c31117",
   "metadata": {},
   "outputs": [],
   "source": [
    "import pandas as pd\n",
    "\n",
    "from datetime import datetime"
   ]
  },
  {
   "cell_type": "code",
   "execution_count": 4,
   "id": "d1bb2da6",
   "metadata": {},
   "outputs": [],
   "source": [
    "#Loads the DB\n",
    "DB = pd.read_excel('DB.xlsx', converters={'ID Empleado':str})"
   ]
  },
  {
   "cell_type": "code",
   "execution_count": 29,
   "id": "52cf42d2",
   "metadata": {},
   "outputs": [],
   "source": [
    "#Loads the list of IDs\n",
    "ids = pd.read_excel('a.xlsx',converters={'ID':str})"
   ]
  },
  {
   "cell_type": "code",
   "execution_count": 30,
   "id": "0d6cb985",
   "metadata": {},
   "outputs": [],
   "source": [
    "#Selects pertitent columns into a more useful dataframe copy\n",
    "df = DB[['ID Empleado','Primer Nombre','Primer Apellido','Fecha Efectiva','Descripción Motivo Acción']].copy()\n",
    "\n",
    "df['Fecha Efectiva'] = df['Fecha Efectiva'].astype('str')"
   ]
  },
  {
   "cell_type": "code",
   "execution_count": 31,
   "id": "bfd59e3b",
   "metadata": {},
   "outputs": [],
   "source": [
    "def unifyDate(text):\n",
    "    if ':' in text : \n",
    "        text = text.split()[0]\n",
    "        [y, m , d] = text.split('-')\n",
    "        return d+'/'+m+'/'+y\n",
    "        \n",
    "    else: \n",
    "        return text"
   ]
  },
  {
   "cell_type": "code",
   "execution_count": 32,
   "id": "fdf5ef01",
   "metadata": {},
   "outputs": [],
   "source": [
    "#Modifying df type to use the same format\n",
    "df['Fecha Efectiva'] = df['Fecha Efectiva'].apply(unifyDate)\n",
    "df['Fecha Efectiva'] = df['Fecha Efectiva'].astype('datetime64[ns]')"
   ]
  },
  {
   "cell_type": "code",
   "execution_count": 40,
   "id": "f896681b",
   "metadata": {},
   "outputs": [],
   "source": [
    "finalDF = pd.DataFrame(columns = ['ID', 'NOMBRE', 'CICLO','TRANSFERENCIA', 'MOTIVO'])\n",
    "for index, row in ids.iterrows():\n",
    "    studentID = row['ID']\n",
    "    transfer = \"\"\n",
    "    new = df[df['ID Empleado']== studentID]\n",
    "    \n",
    "    if new.empty: finalDF.loc[index] = [studentID,\" \",\" \",\" \",\" \" ]; continue\n",
    "    \n",
    "    if 'TRANSFERENCIA INTERNA' in new['Descripción Motivo Acción'].unique(): transfer = \"SI\"\n",
    "    \n",
    "    maxDate = new['Fecha Efectiva'].max() \n",
    "    row = new[new['Fecha Efectiva'] == maxDate]\n",
    "    \n",
    "    rowList = row.iloc[0].tolist()\n",
    "    \n",
    "    dateFormat = rowList[3]\n",
    "    month = int(dateFormat.strftime(\"%m\"))\n",
    "    \n",
    "    month = 2 if month >= 6 else 1\n",
    "    \n",
    "    dateFormat = dateFormat.strftime(\"%Y\")+\"-\"+ str(month)    \n",
    "    \n",
    "    finalDF.loc[index] = [studentID, rowList[1]+\" \"+rowList[2],dateFormat, transfer ,rowList[4] ]"
   ]
  },
  {
   "cell_type": "code",
   "execution_count": 43,
   "id": "11b997a1",
   "metadata": {},
   "outputs": [],
   "source": [
    "finalDF.to_excel('Myxl.xlsx')"
   ]
  }
 ],
 "metadata": {
  "kernelspec": {
   "display_name": "Python 3 (ipykernel)",
   "language": "python",
   "name": "python3"
  },
  "language_info": {
   "codemirror_mode": {
    "name": "ipython",
    "version": 3
   },
   "file_extension": ".py",
   "mimetype": "text/x-python",
   "name": "python",
   "nbconvert_exporter": "python",
   "pygments_lexer": "ipython3",
   "version": "3.9.6"
  }
 },
 "nbformat": 4,
 "nbformat_minor": 5
}
